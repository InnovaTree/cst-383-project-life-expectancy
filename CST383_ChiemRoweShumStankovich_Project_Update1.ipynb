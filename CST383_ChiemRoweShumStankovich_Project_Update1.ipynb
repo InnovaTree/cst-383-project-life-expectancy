{
 "cells": [
  {
   "cell_type": "markdown",
   "id": "3749c204",
   "metadata": {},
   "source": [
    "Student Names: Larry Chiem, Ian Rowe, Raymond Shum, Nicholas Stankovich\n",
    "\n",
    "Working Title: Life Expectancy Predictors"
   ]
  },
  {
   "cell_type": "markdown",
   "id": "4ae51423",
   "metadata": {},
   "source": [
    "### What are we going to predict?\n",
    "We are attempting to predict life expectancy."
   ]
  },
  {
   "cell_type": "markdown",
   "id": "3799ce82",
   "metadata": {},
   "source": [
    "### Source of the Data Set:\n",
    "This data set is from Kaggle: https://www.kaggle.com/kumarajarshi/life-expectancy-who\n",
    "\n",
    "It describes average life expectancy values for many countries along with indicators thought to be useful for prediction.\n",
    "\n",
    "The author has taken data available from reports provided by the GHO, preprocessed them and combined them into a single data set."
   ]
  },
  {
   "cell_type": "markdown",
   "id": "9c5be1b1",
   "metadata": {},
   "source": [
    "### What features are we planning to use as predictors?\n",
    "TBD: We are dropping 'Country', 'Year', 'infant deaths', 'percentage expenditure', 'thinness 1-19 years', 'Income composition of resources'. \n",
    "\n",
    "Reason: \n",
    "\n",
    "Included features may depend on future feature engineering. For example, we might combine all the vaccination features into something like average vaccination rate. Population might get dropped and exist in engineered futures such as GDP per capita.\n",
    "\n",
    "We also want to try to experiment with best predictors using RandomSearchCV if time allows."
   ]
  },
  {
   "cell_type": "markdown",
   "id": "16ea5644",
   "metadata": {},
   "source": [
    "### Purpose\n",
    "We want to develop a model to predict a population's life expectancy (in years of age) based on the indicators with the highest level of contribution."
   ]
  },
  {
   "cell_type": "markdown",
   "id": "262c66fa",
   "metadata": {},
   "source": [
    "### Notes\n",
    "The issue with this data set is that there is no way to guarantee its accuracy. The author mentioned that it was a preprocessed combination of several data sets provided by GHO (Global Health Observatory) of the WHO, but did not reference the original sources or methods used for transformation. \n",
    "\n",
    "Some features are unclear in what they represent. For example, income composition of resources is defined as a 0-1 scaled representation of income composition of resources.\n",
    "\n",
    "Some features also contain obviously inaccurate values. For example, there is a country who's average BMI is 87. There is also a country with 19479% expenditure on healthcare (relative to GDP) and a country with 212183 reported cases of measles per 1000 population. These values seem unrealistic.\n",
    "\n",
    "We attempt to identify and remedy errors during preprocessing. Due to the unreliable nature of the data, this project should only be used to illustrate the data science techniques we've learned in class and not to draw an real world conclusions, unfortunately."
   ]
  },
  {
   "cell_type": "markdown",
   "id": "0c9e781f",
   "metadata": {},
   "source": [
    "### Data Dictionary\n",
    "<br>\n",
    "<dl>\n",
    "    <dt>Country</dt>\n",
    "    <br>\n",
    "    <dt>Year</dt>\n",
    "    <br>\n",
    "    <dt>Status</dt>\n",
    "    <dd>Developed or Developing status</dd>\n",
    "    <br>\n",
    "    <dt>Life Expectancy</dt>\n",
    "    <dd>Life Expectancy in age</dd>\n",
    "    <br>\n",
    "    <dt>Adult Mortality</dt>\n",
    "    <dd>Adult Mortality Rates of both sexes (probability of dying between 15 and 60 years per 1000 population)</dd>\n",
    "    <br>\n",
    "    <dt>infant deaths</dt>\n",
    "    <dd>Number of Infant Deaths per 1000 population</dd>\n",
    "    <br>\n",
    "    <dt>Alcohol</dt>\n",
    "    <dd>Alcohol, recorded per capita (15+) consumption (in litres of pure alcohol)</dd>\n",
    "    <br>\n",
    "    <dt>percentage expenditure</dt>\n",
    "    <dd>Expenditure on health as a percentage of Gross Domestic Product per capita(%)</dd>\n",
    "    <br>\n",
    "    <dt>Hepatitus B</dt>\n",
    "    <dd>Hepatitis B (HepB) immunization coverage among 1-year-olds (%)</dd>\n",
    "    <br>\n",
    "    <dt>Measles</dt>\n",
    "    <dd>Measles - number of reported cases per 1000 population</dd>\n",
    "    <br>\n",
    "    <dt>BMI</dt>\n",
    "    <dd>Average Body Mass Index of entire population</dd>\n",
    "    <br>\n",
    "    <dt>under-5-deaths</dt>\n",
    "    <dd>Number of under-five deaths per 1000 population</dd>\n",
    "    <br>\n",
    "    <dt>Polio</dt>\n",
    "    <dd>Polio (Pol3) immunization coverage among 1-year-olds (%)</dd>\n",
    "    <br>\n",
    "    <dt>Total expenditure</dt>\n",
    "    <dd>General government expenditure on health as a percentage of total government expenditure (%)</dd>\n",
    "    <br>\n",
    "    <dt>Diptheria</dt>\n",
    "    <dd>Diphtheria tetanus toxoid and pertussis (DTP3) immunization coverage among 1-year-olds (%)</dd>\n",
    "    <br>\n",
    "    <dt>HIV/AIDS</dt>\n",
    "    <dd>Deaths per 1 000 live births HIV/AIDS (0-4 years)</dd>\n",
    "    <br>\n",
    "    <dt>GDP</dt>\n",
    "    <dd>Gross Domestic Product per capita (in USD)</dd>\n",
    "    <br>\n",
    "    <dt>Population</dt>\n",
    "    <br>\n",
    "    <dt>thinness 1-19 years</dt>\n",
    "    <dd>Prevalence of thinness among children and adolescents for Age 10 to 19 (% )</dd>\n",
    "    <br>\n",
    "    <dt>thinness 5-9 years</dt>\n",
    "    <dd>Prevalence of thinness among children for Age 5 to 9(%)</dd>\n",
    "    <br>\n",
    "    <dt>Income composition of resources</dt>\n",
    "    <dd>Human Development Index in terms of income composition of resources (index ranging from 0 to 1)</dd>\n",
    "    <br>\n",
    "    <dt>Schooling</dt>\n",
    "    <dd>Number of years of Schooling(years)</dd>\n",
    "</dl>"
   ]
  },
  {
   "cell_type": "code",
   "execution_count": 1,
   "id": "a43a8cba",
   "metadata": {},
   "outputs": [],
   "source": [
    "import pandas as pd\n",
    "import numpy as np\n",
    "import matplotlib.pyplot as plt\n",
    "from matplotlib import rcParams\n",
    "import seaborn as sns\n",
    "from scipy.stats import zscore\n",
    "from sklearn.model_selection import train_test_split\n",
    "from sklearn.preprocessing import StandardScaler\n",
    "from sklearn.neighbors import KNeighborsRegressor"
   ]
  },
  {
   "cell_type": "code",
   "execution_count": 2,
   "id": "33b45cb0",
   "metadata": {},
   "outputs": [],
   "source": [
    "# These are boilerplate settings provided by Prof. Memo\n",
    "\n",
    "# allow output to span multiple output lines in the console\n",
    "pd.set_option('display.max_columns', 500)\n",
    "\n",
    "# switch to seaborn default stylistic parameters\n",
    "# see the very useful https://seaborn.pydata.org/tutorial/aesthetics.html\n",
    "sns.set()\n",
    "sns.set_context('notebook')   \n",
    "# sns.set_context('paper')  # smaller\n",
    "# sns.set_context('talk')   # larger\n",
    "\n",
    "# change default plot size\n",
    "rcParams['figure.figsize'] = 9,7"
   ]
  },
  {
   "cell_type": "code",
   "execution_count": 3,
   "id": "15cc3423",
   "metadata": {},
   "outputs": [],
   "source": [
    "# Repo is still private. Load .csv locally for now. Replace with url to dataset in repo when public.\n",
    "# Make sure the .csv is in the same directory as this .ipynb.\n",
    "\n",
    "url = \"life_expectancy_data.csv\"\n",
    "df = pd.read_csv(url)"
   ]
  },
  {
   "cell_type": "code",
   "execution_count": 4,
   "id": "946e2f07",
   "metadata": {},
   "outputs": [
    {
     "data": {
      "text/html": [
       "<div>\n",
       "<style scoped>\n",
       "    .dataframe tbody tr th:only-of-type {\n",
       "        vertical-align: middle;\n",
       "    }\n",
       "\n",
       "    .dataframe tbody tr th {\n",
       "        vertical-align: top;\n",
       "    }\n",
       "\n",
       "    .dataframe thead th {\n",
       "        text-align: right;\n",
       "    }\n",
       "</style>\n",
       "<table border=\"1\" class=\"dataframe\">\n",
       "  <thead>\n",
       "    <tr style=\"text-align: right;\">\n",
       "      <th></th>\n",
       "      <th>Country</th>\n",
       "      <th>Year</th>\n",
       "      <th>Status</th>\n",
       "      <th>Life expectancy</th>\n",
       "      <th>Adult Mortality</th>\n",
       "      <th>infant deaths</th>\n",
       "      <th>Alcohol</th>\n",
       "      <th>percentage expenditure</th>\n",
       "      <th>Hepatitis B</th>\n",
       "      <th>Measles</th>\n",
       "      <th>BMI</th>\n",
       "      <th>under-five deaths</th>\n",
       "      <th>Polio</th>\n",
       "      <th>Total expenditure</th>\n",
       "      <th>Diphtheria</th>\n",
       "      <th>HIV/AIDS</th>\n",
       "      <th>GDP</th>\n",
       "      <th>Population</th>\n",
       "      <th>thinness  1-19 years</th>\n",
       "      <th>thinness 5-9 years</th>\n",
       "      <th>Income composition of resources</th>\n",
       "      <th>Schooling</th>\n",
       "    </tr>\n",
       "  </thead>\n",
       "  <tbody>\n",
       "    <tr>\n",
       "      <th>0</th>\n",
       "      <td>Afghanistan</td>\n",
       "      <td>2015</td>\n",
       "      <td>Developing</td>\n",
       "      <td>65.0</td>\n",
       "      <td>263.0</td>\n",
       "      <td>62</td>\n",
       "      <td>0.01</td>\n",
       "      <td>71.279624</td>\n",
       "      <td>65.0</td>\n",
       "      <td>1154</td>\n",
       "      <td>19.1</td>\n",
       "      <td>83</td>\n",
       "      <td>6.0</td>\n",
       "      <td>8.16</td>\n",
       "      <td>65.0</td>\n",
       "      <td>0.1</td>\n",
       "      <td>584.259210</td>\n",
       "      <td>33736494.0</td>\n",
       "      <td>17.2</td>\n",
       "      <td>17.3</td>\n",
       "      <td>0.479</td>\n",
       "      <td>10.1</td>\n",
       "    </tr>\n",
       "    <tr>\n",
       "      <th>1</th>\n",
       "      <td>Afghanistan</td>\n",
       "      <td>2014</td>\n",
       "      <td>Developing</td>\n",
       "      <td>59.9</td>\n",
       "      <td>271.0</td>\n",
       "      <td>64</td>\n",
       "      <td>0.01</td>\n",
       "      <td>73.523582</td>\n",
       "      <td>62.0</td>\n",
       "      <td>492</td>\n",
       "      <td>18.6</td>\n",
       "      <td>86</td>\n",
       "      <td>58.0</td>\n",
       "      <td>8.18</td>\n",
       "      <td>62.0</td>\n",
       "      <td>0.1</td>\n",
       "      <td>612.696514</td>\n",
       "      <td>327582.0</td>\n",
       "      <td>17.5</td>\n",
       "      <td>17.5</td>\n",
       "      <td>0.476</td>\n",
       "      <td>10.0</td>\n",
       "    </tr>\n",
       "    <tr>\n",
       "      <th>2</th>\n",
       "      <td>Afghanistan</td>\n",
       "      <td>2013</td>\n",
       "      <td>Developing</td>\n",
       "      <td>59.9</td>\n",
       "      <td>268.0</td>\n",
       "      <td>66</td>\n",
       "      <td>0.01</td>\n",
       "      <td>73.219243</td>\n",
       "      <td>64.0</td>\n",
       "      <td>430</td>\n",
       "      <td>18.1</td>\n",
       "      <td>89</td>\n",
       "      <td>62.0</td>\n",
       "      <td>8.13</td>\n",
       "      <td>64.0</td>\n",
       "      <td>0.1</td>\n",
       "      <td>631.744976</td>\n",
       "      <td>31731688.0</td>\n",
       "      <td>17.7</td>\n",
       "      <td>17.7</td>\n",
       "      <td>0.470</td>\n",
       "      <td>9.9</td>\n",
       "    </tr>\n",
       "    <tr>\n",
       "      <th>3</th>\n",
       "      <td>Afghanistan</td>\n",
       "      <td>2012</td>\n",
       "      <td>Developing</td>\n",
       "      <td>59.5</td>\n",
       "      <td>272.0</td>\n",
       "      <td>69</td>\n",
       "      <td>0.01</td>\n",
       "      <td>78.184215</td>\n",
       "      <td>67.0</td>\n",
       "      <td>2787</td>\n",
       "      <td>17.6</td>\n",
       "      <td>93</td>\n",
       "      <td>67.0</td>\n",
       "      <td>8.52</td>\n",
       "      <td>67.0</td>\n",
       "      <td>0.1</td>\n",
       "      <td>669.959000</td>\n",
       "      <td>3696958.0</td>\n",
       "      <td>17.9</td>\n",
       "      <td>18.0</td>\n",
       "      <td>0.463</td>\n",
       "      <td>9.8</td>\n",
       "    </tr>\n",
       "    <tr>\n",
       "      <th>4</th>\n",
       "      <td>Afghanistan</td>\n",
       "      <td>2011</td>\n",
       "      <td>Developing</td>\n",
       "      <td>59.2</td>\n",
       "      <td>275.0</td>\n",
       "      <td>71</td>\n",
       "      <td>0.01</td>\n",
       "      <td>7.097109</td>\n",
       "      <td>68.0</td>\n",
       "      <td>3013</td>\n",
       "      <td>17.2</td>\n",
       "      <td>97</td>\n",
       "      <td>68.0</td>\n",
       "      <td>7.87</td>\n",
       "      <td>68.0</td>\n",
       "      <td>0.1</td>\n",
       "      <td>63.537231</td>\n",
       "      <td>2978599.0</td>\n",
       "      <td>18.2</td>\n",
       "      <td>18.2</td>\n",
       "      <td>0.454</td>\n",
       "      <td>9.5</td>\n",
       "    </tr>\n",
       "  </tbody>\n",
       "</table>\n",
       "</div>"
      ],
      "text/plain": [
       "       Country  Year      Status  Life expectancy   Adult Mortality  \\\n",
       "0  Afghanistan  2015  Developing              65.0            263.0   \n",
       "1  Afghanistan  2014  Developing              59.9            271.0   \n",
       "2  Afghanistan  2013  Developing              59.9            268.0   \n",
       "3  Afghanistan  2012  Developing              59.5            272.0   \n",
       "4  Afghanistan  2011  Developing              59.2            275.0   \n",
       "\n",
       "   infant deaths  Alcohol  percentage expenditure  Hepatitis B  Measles   \\\n",
       "0             62     0.01               71.279624         65.0      1154   \n",
       "1             64     0.01               73.523582         62.0       492   \n",
       "2             66     0.01               73.219243         64.0       430   \n",
       "3             69     0.01               78.184215         67.0      2787   \n",
       "4             71     0.01                7.097109         68.0      3013   \n",
       "\n",
       "    BMI   under-five deaths   Polio  Total expenditure  Diphtheria   \\\n",
       "0   19.1                  83    6.0               8.16         65.0   \n",
       "1   18.6                  86   58.0               8.18         62.0   \n",
       "2   18.1                  89   62.0               8.13         64.0   \n",
       "3   17.6                  93   67.0               8.52         67.0   \n",
       "4   17.2                  97   68.0               7.87         68.0   \n",
       "\n",
       "    HIV/AIDS         GDP  Population   thinness  1-19 years  \\\n",
       "0        0.1  584.259210  33736494.0                   17.2   \n",
       "1        0.1  612.696514    327582.0                   17.5   \n",
       "2        0.1  631.744976  31731688.0                   17.7   \n",
       "3        0.1  669.959000   3696958.0                   17.9   \n",
       "4        0.1   63.537231   2978599.0                   18.2   \n",
       "\n",
       "    thinness 5-9 years  Income composition of resources  Schooling  \n",
       "0                 17.3                            0.479       10.1  \n",
       "1                 17.5                            0.476       10.0  \n",
       "2                 17.7                            0.470        9.9  \n",
       "3                 18.0                            0.463        9.8  \n",
       "4                 18.2                            0.454        9.5  "
      ]
     },
     "execution_count": 4,
     "metadata": {},
     "output_type": "execute_result"
    }
   ],
   "source": [
    "df.head(5)"
   ]
  },
  {
   "cell_type": "code",
   "execution_count": 5,
   "id": "e5780161",
   "metadata": {
    "scrolled": false
   },
   "outputs": [
    {
     "name": "stdout",
     "output_type": "stream",
     "text": [
      "<class 'pandas.core.frame.DataFrame'>\n",
      "RangeIndex: 2938 entries, 0 to 2937\n",
      "Data columns (total 22 columns):\n",
      " #   Column                           Non-Null Count  Dtype  \n",
      "---  ------                           --------------  -----  \n",
      " 0   Country                          2938 non-null   object \n",
      " 1   Year                             2938 non-null   int64  \n",
      " 2   Status                           2938 non-null   object \n",
      " 3   Life expectancy                  2928 non-null   float64\n",
      " 4   Adult Mortality                  2928 non-null   float64\n",
      " 5   infant deaths                    2938 non-null   int64  \n",
      " 6   Alcohol                          2744 non-null   float64\n",
      " 7   percentage expenditure           2938 non-null   float64\n",
      " 8   Hepatitis B                      2385 non-null   float64\n",
      " 9   Measles                          2938 non-null   int64  \n",
      " 10   BMI                             2904 non-null   float64\n",
      " 11  under-five deaths                2938 non-null   int64  \n",
      " 12  Polio                            2919 non-null   float64\n",
      " 13  Total expenditure                2712 non-null   float64\n",
      " 14  Diphtheria                       2919 non-null   float64\n",
      " 15   HIV/AIDS                        2938 non-null   float64\n",
      " 16  GDP                              2490 non-null   float64\n",
      " 17  Population                       2286 non-null   float64\n",
      " 18   thinness  1-19 years            2904 non-null   float64\n",
      " 19   thinness 5-9 years              2904 non-null   float64\n",
      " 20  Income composition of resources  2771 non-null   float64\n",
      " 21  Schooling                        2775 non-null   float64\n",
      "dtypes: float64(16), int64(4), object(2)\n",
      "memory usage: 505.1+ KB\n"
     ]
    }
   ],
   "source": [
    "# I think we can probably drop country and year. We don't want year because we aren't doing a time series regression\n",
    "# and I feel that country is already described by the associated set of features in the row. \n",
    "\n",
    "# We might drop 'Status' for the same reasons as 'Country', but it may benefit\n",
    "# from one-hot encoding. Because the status is binary (Developed and Developing),\n",
    "# we can actually turn this experiment into a classification project if we\n",
    "# instead choose to predict it.\n",
    "\n",
    "# We should be able to drop thinness 5-9 because we have thinness 1-19\n",
    "# We might be able to perform feature engineering to:\n",
    "#    - Combine vaccination rates for overall vaccination rates\n",
    "#    - Do something related to overall cases of transmissible diseases\n",
    "#    - Alcohol/Total healthcare expenditure rather than liters consumed\n",
    "#    - Adult mortality / infant deaths\n",
    "\n",
    "# The features are mostly numeric, which should help for regression.\n",
    "\n",
    "df.info()"
   ]
  },
  {
   "cell_type": "code",
   "execution_count": 6,
   "id": "d83e25d3",
   "metadata": {},
   "outputs": [
    {
     "data": {
      "text/html": [
       "<div>\n",
       "<style scoped>\n",
       "    .dataframe tbody tr th:only-of-type {\n",
       "        vertical-align: middle;\n",
       "    }\n",
       "\n",
       "    .dataframe tbody tr th {\n",
       "        vertical-align: top;\n",
       "    }\n",
       "\n",
       "    .dataframe thead th {\n",
       "        text-align: right;\n",
       "    }\n",
       "</style>\n",
       "<table border=\"1\" class=\"dataframe\">\n",
       "  <thead>\n",
       "    <tr style=\"text-align: right;\">\n",
       "      <th></th>\n",
       "      <th>Year</th>\n",
       "      <th>Life expectancy</th>\n",
       "      <th>Adult Mortality</th>\n",
       "      <th>infant deaths</th>\n",
       "      <th>Alcohol</th>\n",
       "      <th>percentage expenditure</th>\n",
       "      <th>Hepatitis B</th>\n",
       "      <th>Measles</th>\n",
       "      <th>BMI</th>\n",
       "      <th>under-five deaths</th>\n",
       "      <th>Polio</th>\n",
       "      <th>Total expenditure</th>\n",
       "      <th>Diphtheria</th>\n",
       "      <th>HIV/AIDS</th>\n",
       "      <th>GDP</th>\n",
       "      <th>Population</th>\n",
       "      <th>thinness  1-19 years</th>\n",
       "      <th>thinness 5-9 years</th>\n",
       "      <th>Income composition of resources</th>\n",
       "      <th>Schooling</th>\n",
       "    </tr>\n",
       "  </thead>\n",
       "  <tbody>\n",
       "    <tr>\n",
       "      <th>count</th>\n",
       "      <td>2938.000000</td>\n",
       "      <td>2928.000000</td>\n",
       "      <td>2928.000000</td>\n",
       "      <td>2938.000000</td>\n",
       "      <td>2744.000000</td>\n",
       "      <td>2938.000000</td>\n",
       "      <td>2385.000000</td>\n",
       "      <td>2938.000000</td>\n",
       "      <td>2904.000000</td>\n",
       "      <td>2938.000000</td>\n",
       "      <td>2919.000000</td>\n",
       "      <td>2712.00000</td>\n",
       "      <td>2919.000000</td>\n",
       "      <td>2938.000000</td>\n",
       "      <td>2490.000000</td>\n",
       "      <td>2.286000e+03</td>\n",
       "      <td>2904.000000</td>\n",
       "      <td>2904.000000</td>\n",
       "      <td>2771.000000</td>\n",
       "      <td>2775.000000</td>\n",
       "    </tr>\n",
       "    <tr>\n",
       "      <th>mean</th>\n",
       "      <td>2007.518720</td>\n",
       "      <td>69.224932</td>\n",
       "      <td>164.796448</td>\n",
       "      <td>30.303948</td>\n",
       "      <td>4.602861</td>\n",
       "      <td>738.251295</td>\n",
       "      <td>80.940461</td>\n",
       "      <td>2419.592240</td>\n",
       "      <td>38.321247</td>\n",
       "      <td>42.035739</td>\n",
       "      <td>82.550188</td>\n",
       "      <td>5.93819</td>\n",
       "      <td>82.324084</td>\n",
       "      <td>1.742103</td>\n",
       "      <td>7483.158469</td>\n",
       "      <td>1.275338e+07</td>\n",
       "      <td>4.839704</td>\n",
       "      <td>4.870317</td>\n",
       "      <td>0.627551</td>\n",
       "      <td>11.992793</td>\n",
       "    </tr>\n",
       "    <tr>\n",
       "      <th>std</th>\n",
       "      <td>4.613841</td>\n",
       "      <td>9.523867</td>\n",
       "      <td>124.292079</td>\n",
       "      <td>117.926501</td>\n",
       "      <td>4.052413</td>\n",
       "      <td>1987.914858</td>\n",
       "      <td>25.070016</td>\n",
       "      <td>11467.272489</td>\n",
       "      <td>20.044034</td>\n",
       "      <td>160.445548</td>\n",
       "      <td>23.428046</td>\n",
       "      <td>2.49832</td>\n",
       "      <td>23.716912</td>\n",
       "      <td>5.077785</td>\n",
       "      <td>14270.169342</td>\n",
       "      <td>6.101210e+07</td>\n",
       "      <td>4.420195</td>\n",
       "      <td>4.508882</td>\n",
       "      <td>0.210904</td>\n",
       "      <td>3.358920</td>\n",
       "    </tr>\n",
       "    <tr>\n",
       "      <th>min</th>\n",
       "      <td>2000.000000</td>\n",
       "      <td>36.300000</td>\n",
       "      <td>1.000000</td>\n",
       "      <td>0.000000</td>\n",
       "      <td>0.010000</td>\n",
       "      <td>0.000000</td>\n",
       "      <td>1.000000</td>\n",
       "      <td>0.000000</td>\n",
       "      <td>1.000000</td>\n",
       "      <td>0.000000</td>\n",
       "      <td>3.000000</td>\n",
       "      <td>0.37000</td>\n",
       "      <td>2.000000</td>\n",
       "      <td>0.100000</td>\n",
       "      <td>1.681350</td>\n",
       "      <td>3.400000e+01</td>\n",
       "      <td>0.100000</td>\n",
       "      <td>0.100000</td>\n",
       "      <td>0.000000</td>\n",
       "      <td>0.000000</td>\n",
       "    </tr>\n",
       "    <tr>\n",
       "      <th>25%</th>\n",
       "      <td>2004.000000</td>\n",
       "      <td>63.100000</td>\n",
       "      <td>74.000000</td>\n",
       "      <td>0.000000</td>\n",
       "      <td>0.877500</td>\n",
       "      <td>4.685343</td>\n",
       "      <td>77.000000</td>\n",
       "      <td>0.000000</td>\n",
       "      <td>19.300000</td>\n",
       "      <td>0.000000</td>\n",
       "      <td>78.000000</td>\n",
       "      <td>4.26000</td>\n",
       "      <td>78.000000</td>\n",
       "      <td>0.100000</td>\n",
       "      <td>463.935626</td>\n",
       "      <td>1.957932e+05</td>\n",
       "      <td>1.600000</td>\n",
       "      <td>1.500000</td>\n",
       "      <td>0.493000</td>\n",
       "      <td>10.100000</td>\n",
       "    </tr>\n",
       "    <tr>\n",
       "      <th>50%</th>\n",
       "      <td>2008.000000</td>\n",
       "      <td>72.100000</td>\n",
       "      <td>144.000000</td>\n",
       "      <td>3.000000</td>\n",
       "      <td>3.755000</td>\n",
       "      <td>64.912906</td>\n",
       "      <td>92.000000</td>\n",
       "      <td>17.000000</td>\n",
       "      <td>43.500000</td>\n",
       "      <td>4.000000</td>\n",
       "      <td>93.000000</td>\n",
       "      <td>5.75500</td>\n",
       "      <td>93.000000</td>\n",
       "      <td>0.100000</td>\n",
       "      <td>1766.947595</td>\n",
       "      <td>1.386542e+06</td>\n",
       "      <td>3.300000</td>\n",
       "      <td>3.300000</td>\n",
       "      <td>0.677000</td>\n",
       "      <td>12.300000</td>\n",
       "    </tr>\n",
       "    <tr>\n",
       "      <th>75%</th>\n",
       "      <td>2012.000000</td>\n",
       "      <td>75.700000</td>\n",
       "      <td>228.000000</td>\n",
       "      <td>22.000000</td>\n",
       "      <td>7.702500</td>\n",
       "      <td>441.534144</td>\n",
       "      <td>97.000000</td>\n",
       "      <td>360.250000</td>\n",
       "      <td>56.200000</td>\n",
       "      <td>28.000000</td>\n",
       "      <td>97.000000</td>\n",
       "      <td>7.49250</td>\n",
       "      <td>97.000000</td>\n",
       "      <td>0.800000</td>\n",
       "      <td>5910.806335</td>\n",
       "      <td>7.420359e+06</td>\n",
       "      <td>7.200000</td>\n",
       "      <td>7.200000</td>\n",
       "      <td>0.779000</td>\n",
       "      <td>14.300000</td>\n",
       "    </tr>\n",
       "    <tr>\n",
       "      <th>max</th>\n",
       "      <td>2015.000000</td>\n",
       "      <td>89.000000</td>\n",
       "      <td>723.000000</td>\n",
       "      <td>1800.000000</td>\n",
       "      <td>17.870000</td>\n",
       "      <td>19479.911610</td>\n",
       "      <td>99.000000</td>\n",
       "      <td>212183.000000</td>\n",
       "      <td>87.300000</td>\n",
       "      <td>2500.000000</td>\n",
       "      <td>99.000000</td>\n",
       "      <td>17.60000</td>\n",
       "      <td>99.000000</td>\n",
       "      <td>50.600000</td>\n",
       "      <td>119172.741800</td>\n",
       "      <td>1.293859e+09</td>\n",
       "      <td>27.700000</td>\n",
       "      <td>28.600000</td>\n",
       "      <td>0.948000</td>\n",
       "      <td>20.700000</td>\n",
       "    </tr>\n",
       "  </tbody>\n",
       "</table>\n",
       "</div>"
      ],
      "text/plain": [
       "              Year  Life expectancy   Adult Mortality  infant deaths  \\\n",
       "count  2938.000000       2928.000000      2928.000000    2938.000000   \n",
       "mean   2007.518720         69.224932       164.796448      30.303948   \n",
       "std       4.613841          9.523867       124.292079     117.926501   \n",
       "min    2000.000000         36.300000         1.000000       0.000000   \n",
       "25%    2004.000000         63.100000        74.000000       0.000000   \n",
       "50%    2008.000000         72.100000       144.000000       3.000000   \n",
       "75%    2012.000000         75.700000       228.000000      22.000000   \n",
       "max    2015.000000         89.000000       723.000000    1800.000000   \n",
       "\n",
       "           Alcohol  percentage expenditure  Hepatitis B       Measles   \\\n",
       "count  2744.000000             2938.000000  2385.000000    2938.000000   \n",
       "mean      4.602861              738.251295    80.940461    2419.592240   \n",
       "std       4.052413             1987.914858    25.070016   11467.272489   \n",
       "min       0.010000                0.000000     1.000000       0.000000   \n",
       "25%       0.877500                4.685343    77.000000       0.000000   \n",
       "50%       3.755000               64.912906    92.000000      17.000000   \n",
       "75%       7.702500              441.534144    97.000000     360.250000   \n",
       "max      17.870000            19479.911610    99.000000  212183.000000   \n",
       "\n",
       "              BMI   under-five deaths         Polio  Total expenditure  \\\n",
       "count  2904.000000         2938.000000  2919.000000         2712.00000   \n",
       "mean     38.321247           42.035739    82.550188            5.93819   \n",
       "std      20.044034          160.445548    23.428046            2.49832   \n",
       "min       1.000000            0.000000     3.000000            0.37000   \n",
       "25%      19.300000            0.000000    78.000000            4.26000   \n",
       "50%      43.500000            4.000000    93.000000            5.75500   \n",
       "75%      56.200000           28.000000    97.000000            7.49250   \n",
       "max      87.300000         2500.000000    99.000000           17.60000   \n",
       "\n",
       "       Diphtheria      HIV/AIDS            GDP    Population  \\\n",
       "count  2919.000000  2938.000000    2490.000000  2.286000e+03   \n",
       "mean     82.324084     1.742103    7483.158469  1.275338e+07   \n",
       "std      23.716912     5.077785   14270.169342  6.101210e+07   \n",
       "min       2.000000     0.100000       1.681350  3.400000e+01   \n",
       "25%      78.000000     0.100000     463.935626  1.957932e+05   \n",
       "50%      93.000000     0.100000    1766.947595  1.386542e+06   \n",
       "75%      97.000000     0.800000    5910.806335  7.420359e+06   \n",
       "max      99.000000    50.600000  119172.741800  1.293859e+09   \n",
       "\n",
       "        thinness  1-19 years   thinness 5-9 years  \\\n",
       "count            2904.000000          2904.000000   \n",
       "mean                4.839704             4.870317   \n",
       "std                 4.420195             4.508882   \n",
       "min                 0.100000             0.100000   \n",
       "25%                 1.600000             1.500000   \n",
       "50%                 3.300000             3.300000   \n",
       "75%                 7.200000             7.200000   \n",
       "max                27.700000            28.600000   \n",
       "\n",
       "       Income composition of resources    Schooling  \n",
       "count                      2771.000000  2775.000000  \n",
       "mean                          0.627551    11.992793  \n",
       "std                           0.210904     3.358920  \n",
       "min                           0.000000     0.000000  \n",
       "25%                           0.493000    10.100000  \n",
       "50%                           0.677000    12.300000  \n",
       "75%                           0.779000    14.300000  \n",
       "max                           0.948000    20.700000  "
      ]
     },
     "execution_count": 6,
     "metadata": {},
     "output_type": "execute_result"
    }
   ],
   "source": [
    "# We can immediately see many issues with the data. It seems there are several extreme outliers.\n",
    "# For example, there are countries with:\n",
    "#    - 723 Adult mortalities per 1000 population\n",
    "#    - 1800 infant deaths per 1000 population\n",
    "#    - 19479% GDP expenditure on healthcare\n",
    "df.describe()"
   ]
  },
  {
   "cell_type": "code",
   "execution_count": 7,
   "id": "b42b7a41",
   "metadata": {
    "scrolled": false
   },
   "outputs": [
    {
     "data": {
      "text/plain": [
       "<AxesSubplot:>"
      ]
     },
     "execution_count": 7,
     "metadata": {},
     "output_type": "execute_result"
    },
    {
     "data": {
      "image/png": "[encoded data removed]",
      "text/plain": [
       "<Figure size 648x504 with 2 Axes>"
      ]
     },
     "metadata": {},
     "output_type": "display_data"
    }
   ],
   "source": [
    "# Showing a general heatmap of correlation between features\n",
    "corr = df.corr()\n",
    "sns.heatmap(corr)"
   ]
  },
  {
   "cell_type": "code",
   "execution_count": 8,
   "id": "f4c0216c",
   "metadata": {},
   "outputs": [
    {
     "data": {
      "text/plain": [
       "<AxesSubplot:>"
      ]
     },
     "execution_count": 8,
     "metadata": {},
     "output_type": "execute_result"
    },
    {
     "data": {
      "image/png": "[encoded data removed]",
      "text/plain": [
       "<Figure size 648x504 with 2 Axes>"
      ]
     },
     "metadata": {},
     "output_type": "display_data"
    }
   ],
   "source": [
    "# The most strongly correlated features displayed in a heatmap\n",
    "\n",
    "# Strong relationships (not including life expectancy):\n",
    "#    - Income Composition of Resources & Schooling\n",
    "#    - Under 5 deaths & infant deaths\n",
    "#    - GDP & percent expenditure\n",
    "#    - Thinness 5-9 & thinness 1-19\n",
    "\n",
    "# I think we can drop:\n",
    "#    - Income composition of resources\n",
    "#    - infant deaths\n",
    "#    - Thinness 5-9\n",
    "\n",
    "# Total expenditured is not strongly correlated with either GDP or\n",
    "# percentage expenditure, which is suspcious.\n",
    "\n",
    "# Reason: We don't know what income composition of resources actually is,\n",
    "# and we can lean on schooling. Infant deaths has some extreme outliers\n",
    "# and the under 5 deaths outliers are at least more sensible (due to age\n",
    "# range). Thinness 1-19 should already include thinness 5-9.\n",
    "\n",
    "# Caveat: Life Expectancy is strongly correlated with income composition\n",
    "# of resources\n",
    "\n",
    "strong_relationship = corr[((corr >= .7) | (corr <= -.6)) & (corr != 1.0)]\n",
    "\n",
    "sns.heatmap(strong_relationship)"
   ]
  },
  {
   "cell_type": "code",
   "execution_count": 9,
   "id": "6b3a55bb",
   "metadata": {},
   "outputs": [
    {
     "data": {
      "text/plain": [
       "Year                               Income composition of resources\n",
       "Life expectancy                                          Schooling\n",
       "Adult Mortality                                           HIV/AIDS\n",
       "infant deaths                                   under-five deaths \n",
       "Alcohol                                                  Schooling\n",
       "percentage expenditure                                         GDP\n",
       "Hepatitis B                                            Diphtheria \n",
       "Measles                                         under-five deaths \n",
       " BMI                                              Life expectancy \n",
       "under-five deaths                                    infant deaths\n",
       "Polio                                                  Diphtheria \n",
       "Total expenditure                                          Alcohol\n",
       "Diphtheria                                                   Polio\n",
       " HIV/AIDS                                          Adult Mortality\n",
       "GDP                                         percentage expenditure\n",
       "Population                                           infant deaths\n",
       " thinness  1-19 years                           thinness 5-9 years\n",
       " thinness 5-9 years                           thinness  1-19 years\n",
       "Income composition of resources                          Schooling\n",
       "Schooling                          Income composition of resources\n",
       "dtype: object"
      ]
     },
     "execution_count": 9,
     "metadata": {},
     "output_type": "execute_result"
    }
   ],
   "source": [
    "# Each feature's most highly positively correlated value.\n",
    "corr.apply(lambda x: x.sort_values(ascending=False).index[1])"
   ]
  },
  {
   "cell_type": "code",
   "execution_count": 10,
   "id": "491e6220",
   "metadata": {
    "scrolled": false
   },
   "outputs": [
    {
     "data": {
      "text/plain": [
       "Year                                            HIV/AIDS\n",
       "Life expectancy                          Adult Mortality\n",
       "Adult Mortality                         Life expectancy \n",
       "infant deaths                                       BMI \n",
       "Alcohol                             thinness  1-19 years\n",
       "percentage expenditure                thinness 5-9 years\n",
       "Hepatitis B                           under-five deaths \n",
       "Measles                                             BMI \n",
       " BMI                                  thinness 5-9 years\n",
       "under-five deaths                                   BMI \n",
       "Polio                                    Adult Mortality\n",
       "Total expenditure                     thinness 5-9 years\n",
       "Diphtheria                               Adult Mortality\n",
       " HIV/AIDS                               Life expectancy \n",
       "GDP                                      Adult Mortality\n",
       "Population                                   Hepatitis B\n",
       " thinness  1-19 years                               BMI \n",
       " thinness 5-9 years                                 BMI \n",
       "Income composition of resources          Adult Mortality\n",
       "Schooling                           thinness  1-19 years\n",
       "dtype: object"
      ]
     },
     "execution_count": 10,
     "metadata": {},
     "output_type": "execute_result"
    }
   ],
   "source": [
    "# Each feature's most negatively correlated value.\n",
    "corr.apply(lambda x: x.sort_values().index[0])"
   ]
  },
  {
   "cell_type": "code",
   "execution_count": 11,
   "id": "1d95c470",
   "metadata": {},
   "outputs": [
    {
     "data": {
      "text/plain": [
       "Life expectancy                     0.34\n",
       "Adult Mortality                     0.34\n",
       "infant deaths                       0.00\n",
       "Alcohol                             6.60\n",
       "percentage expenditure              0.00\n",
       "Hepatitis B                        18.82\n",
       "Measles                             0.00\n",
       " BMI                                1.16\n",
       "under-five deaths                   0.00\n",
       "Polio                               0.65\n",
       "Total expenditure                   7.69\n",
       "Diphtheria                          0.65\n",
       " HIV/AIDS                           0.00\n",
       "GDP                                15.25\n",
       "Population                         22.19\n",
       " thinness  1-19 years               1.16\n",
       " thinness 5-9 years                 1.16\n",
       "Income composition of resources     5.68\n",
       "Schooling                           5.55\n",
       "dtype: float64"
      ]
     },
     "execution_count": 11,
     "metadata": {},
     "output_type": "execute_result"
    }
   ],
   "source": [
    "# % missing values per numeric feature\n",
    "\n",
    "# None of these values reach the threshhold for dropping the feature.\n",
    "# However, the concern is that we cannot easily fill the gaps for some\n",
    "# features. \n",
    "\n",
    "# For example, GDP and Population shouldn't be filled with the median\n",
    "# values. They could be completely different based on the country.\n",
    "\n",
    "# Perhaps we could fill each missing value with the median for the status\n",
    "# of country(Developed, Developing)\n",
    "\n",
    "# After discussion with Prof. Memo, we decided that we'll try to fill\n",
    "# missing values with KNN imputer, first.\n",
    "\n",
    "numeric = df.drop(columns=['Country','Year','Status'])\n",
    "\n",
    "((numeric.isna().sum() / len(numeric)) * 100).round(2)"
   ]
  },
  {
   "cell_type": "code",
   "execution_count": 12,
   "id": "b42e6027",
   "metadata": {},
   "outputs": [],
   "source": [
    "# For our preliminary exploration, we will just drop the rows containing null values.\n",
    "numeric = numeric.dropna()"
   ]
  },
  {
   "cell_type": "code",
   "execution_count": 13,
   "id": "c3fbd682",
   "metadata": {
    "scrolled": false
   },
   "outputs": [
    {
     "data": {
      "text/plain": [
       "{'tags': ['hide-output']}"
      ]
     },
     "execution_count": 13,
     "metadata": {},
     "output_type": "execute_result"
    },
    {
     "data": {
      "image/png": "[encoded data removed]",
      "text/plain": [
       "<Figure size 648x504 with 20 Axes>"
      ]
     },
     "metadata": {},
     "output_type": "display_data"
    }
   ],
   "source": [
    "# This is a histogram plot of each numeric feature. We can see that\n",
    "# many features have values distributed around the smallest or largest\n",
    "# measurements (such as under-five deaths and thinness 1-19 years). We \n",
    "# can also see that many features (such as Polio and thinness) have \n",
    "# ouliers. \n",
    "\n",
    "# Consider that describe() also shows that some features have values\n",
    "# that are very large (like population) and some that can be very\n",
    "# small (min Hepatitus B is 1.0).\n",
    "\n",
    "# Our data set would probably benefit from z-score normalization.\n",
    "\n",
    "numeric.hist()\n",
    "\n",
    "{\"tags\": [\"hide-output\"]}"
   ]
  },
  {
   "cell_type": "code",
   "execution_count": 14,
   "id": "b0e6734b",
   "metadata": {},
   "outputs": [],
   "source": [
    "# For now, we are not normalizing or dropping any features. We're\n",
    "# going to train a KNNRegressors model using raw, unscaled data\n",
    "# and all of the numeric features to establish a baseline RMSE. For\n",
    "# the project, we will judge the accuracy of our tuned model against\n",
    "# the baseline.\n",
    "\n",
    "target = 'Life expectancy '\n",
    "predictors = numeric.drop(columns=target).columns\n",
    "\n",
    "X = numeric[predictors].values\n",
    "y = numeric[target].values\n",
    "\n",
    "X_train, X_test, y_train, y_test = train_test_split(X, y, test_size=0.30, random_state=42)\n",
    "\n",
    "knn = KNeighborsRegressor()\n",
    "knn.fit(X_train, y_train)\n",
    "predictions = knn.predict(X_test)"
   ]
  },
  {
   "cell_type": "code",
   "execution_count": 15,
   "id": "efc13a1f",
   "metadata": {},
   "outputs": [
    {
     "name": "stdout",
     "output_type": "stream",
     "text": [
      "test RMSE, raw and unscaled baseline: 8.9\n",
      "test RMSE, raw and unscaled data: 8.7\n"
     ]
    }
   ],
   "source": [
    "# (raw and unscaled) Blind vs test RMSE\n",
    "# Does this means +- 8.7 or 8.9 years?\n",
    "\n",
    "def rmse(predicted, actual):\n",
    "    return np.sqrt(((predicted - actual)**2).mean())\n",
    "\n",
    "baseline = rmse(y_train.mean(), y_test).round(1)\n",
    "print(f\"test RMSE, raw and unscaled baseline: {baseline}\")\n",
    "\n",
    "raw = rmse(predictions, y_test).round(1)\n",
    "print(f\"test RMSE, raw and unscaled data: {raw}\")"
   ]
  },
  {
   "cell_type": "code",
   "execution_count": 16,
   "id": "a14acbb6",
   "metadata": {},
   "outputs": [
    {
     "name": "stdout",
     "output_type": "stream",
     "text": [
      "Best KNN Hyperparameters: {'algorithm': 'auto', 'n_neighbors': 9, 'p': 1, 'weights': 'uniform'}\n"
     ]
    }
   ],
   "source": [
    "# preliminary hyperparameter tuning example\n",
    "from sklearn.model_selection import GridSearchCV \n",
    "from sklearn.model_selection import RandomizedSearchCV \n",
    "\n",
    "params = {'n_neighbors' : range(1,21,2),\n",
    "              'weights' : ['uniform', 'distance'],\n",
    "              'algorithm' : ['auto', 'ball_tree','kd_tree'],\n",
    "              'p' : [1,2]}\n",
    "optimized_knn = GridSearchCV(knn, params, n_jobs=-1)\n",
    "optimized_knn.fit(X_train, y_train)\n",
    "\n",
    "print(f\"Best KNN Hyperparameters: {optimized_knn.best_params_}\")"
   ]
  },
  {
   "cell_type": "code",
   "execution_count": 17,
   "id": "c0075025",
   "metadata": {
    "scrolled": true
   },
   "outputs": [
    {
     "name": "stdout",
     "output_type": "stream",
     "text": [
      "optimized test RMSE, raw and unscaled data: 8.5\n"
     ]
    }
   ],
   "source": [
    "opt_predict = optimized_knn.predict(X_test)\n",
    "opt = rmse(opt_predict, y_test).round(1)\n",
    "print(f\"optimized test RMSE, raw and unscaled data: {opt}\")"
   ]
  },
  {
   "cell_type": "markdown",
   "id": "535a800c",
   "metadata": {},
   "source": [
    "### LInear Regression Test"
   ]
  },
  {
   "cell_type": "code",
   "execution_count": 18,
   "id": "e61cedbf",
   "metadata": {},
   "outputs": [],
   "source": [
    "from scipy.stats import zscore\n",
    "from sklearn.linear_model import LinearRegression\n",
    "from sklearn.preprocessing import PolynomialFeatures\n",
    "from sklearn.metrics import mean_squared_error, r2_score\n",
    "from sklearn.model_selection import train_test_split, cross_val_score"
   ]
  },
  {
   "cell_type": "code",
   "execution_count": 19,
   "id": "8d2d02d1",
   "metadata": {},
   "outputs": [],
   "source": [
    "# remove whitespace from columns\n",
    "df_lr = df.copy(deep=True)\n",
    "\n",
    "for column in df_lr.columns:\n",
    "    df_lr.rename(columns={column: column.strip().lower()}, errors='raise',inplace=True)"
   ]
  },
  {
   "cell_type": "code",
   "execution_count": 20,
   "id": "cd5419ea",
   "metadata": {},
   "outputs": [],
   "source": [
    "# find way to replace na\n",
    "df_lr.dropna(inplace=True)\n"
   ]
  },
  {
   "cell_type": "code",
   "execution_count": 21,
   "id": "2b1dc20e",
   "metadata": {},
   "outputs": [],
   "source": [
    "y = df_lr['life expectancy']\n",
    "X = df_lr.drop(columns=['country','year','status','life expectancy'])\n",
    "\n",
    "X = zscore(X)"
   ]
  },
  {
   "cell_type": "code",
   "execution_count": 22,
   "id": "65ef2835",
   "metadata": {},
   "outputs": [
    {
     "data": {
      "text/plain": [
       "LinearRegression()"
      ]
     },
     "execution_count": 22,
     "metadata": {},
     "output_type": "execute_result"
    }
   ],
   "source": [
    "X_train, X_test, y_train, y_test = train_test_split(X, y, test_size = 0.3, random_state=0)\n",
    "regr = LinearRegression()\n",
    "regr.fit(X_train, y_train)"
   ]
  },
  {
   "cell_type": "code",
   "execution_count": 23,
   "id": "696673e9",
   "metadata": {},
   "outputs": [
    {
     "data": {
      "text/plain": [
       "0.8312037705809626"
      ]
     },
     "execution_count": 23,
     "metadata": {},
     "output_type": "execute_result"
    }
   ],
   "source": [
    "regr.score(X_train,y_train)"
   ]
  },
  {
   "cell_type": "code",
   "execution_count": 24,
   "id": "3e5e4890",
   "metadata": {},
   "outputs": [],
   "source": [
    "predicted = regr.predict(X_test)"
   ]
  },
  {
   "cell_type": "code",
   "execution_count": 25,
   "id": "621a675c",
   "metadata": {
    "scrolled": false
   },
   "outputs": [
    {
     "data": {
      "text/plain": [
       "<AxesSubplot:ylabel='life expectancy'>"
      ]
     },
     "execution_count": 25,
     "metadata": {},
     "output_type": "execute_result"
    },
    {
     "data": {
      "image/png": "[encoded data removed]",
      "text/plain": [
       "<Figure size 648x504 with 1 Axes>"
      ]
     },
     "metadata": {},
     "output_type": "display_data"
    }
   ],
   "source": [
    "sns.scatterplot(x=predicted,y=y_test)"
   ]
  },
  {
   "cell_type": "code",
   "execution_count": 26,
   "id": "0e21b6bb",
   "metadata": {},
   "outputs": [
    {
     "data": {
      "text/plain": [
       "3.64"
      ]
     },
     "execution_count": 26,
     "metadata": {},
     "output_type": "execute_result"
    }
   ],
   "source": [
    "np.sqrt(((y_test - regr.predict(X_test))**2).mean()).round(2)"
   ]
  },
  {
   "cell_type": "code",
   "execution_count": 27,
   "id": "2ed5efaf",
   "metadata": {
    "scrolled": true
   },
   "outputs": [
    {
     "name": "stdout",
     "output_type": "stream",
     "text": [
      "intercept: 69.29\n",
      "  adult mortality: -2.17\n",
      "  infant deaths: 9.27\n",
      "  alcohol: -0.28\n",
      "  percentage expenditure: 0.81\n",
      "  hepatitis b: -0.04\n",
      "  measles: -0.02\n",
      "  bmi: 0.91\n",
      "  under-five deaths: -9.48\n",
      "  polio: 0.14\n",
      "  total expenditure: 0.14\n",
      "  diphtheria: 0.31\n",
      "  hiv/aids: -2.61\n",
      "  gdp: 0.06\n",
      "  population: -0.02\n",
      "  thinness  1-19 years: 0.06\n",
      "  thinness 5-9 years: -0.13\n",
      "  income composition of resources: 1.66\n",
      "  schooling: 2.59\n"
     ]
    }
   ],
   "source": [
    "print(f'intercept: {regr.intercept_:.2f}')\n",
    "for i, coef in enumerate(regr.coef_):\n",
    "    print(f'  {X.columns[i]}: {coef:.2f}')"
   ]
  },
  {
   "cell_type": "code",
   "execution_count": 28,
   "id": "12d585cb",
   "metadata": {
    "scrolled": true
   },
   "outputs": [
    {
     "name": "stdout",
     "output_type": "stream",
     "text": [
      "RMSE of first feature: \n",
      "  adult mortality: 6.17\n",
      "  infant deaths: 8.55\n",
      "  alcohol: 7.98\n",
      "  percentage expenditure: 7.99\n",
      "  hepatitis b: 8.46\n",
      "  measles: 8.69\n",
      "  bmi: 7.15\n",
      "  under-five deaths: 8.51\n",
      "  polio: 8.20\n",
      "  total expenditure: 8.55\n",
      "  diphtheria: 8.18\n",
      "  hiv/aids: 7.10\n",
      "  gdp: 7.87\n",
      "  population: 8.69\n",
      "  thinness  1-19 years: 7.74\n",
      "  thinness 5-9 years: 7.75\n",
      "  income composition of resources: 6.16\n",
      "  schooling: 5.96\n"
     ]
    }
   ],
   "source": [
    "# Attempt at forward feature selection\n",
    "print(\"RMSE of first feature: \")\n",
    "\n",
    "for i in range(X_train.shape[1]):\n",
    "    X_feat = X_train.iloc[:,[i]]\n",
    "    scores = cross_val_score(LinearRegression(), X_feat, y_train, scoring='neg_mean_squared_error', cv=5)\n",
    "    rmse = np.sqrt(-scores.mean())\n",
    "\n",
    "    print(f'  {X_train.columns[i]}: {rmse:.2f}')"
   ]
  },
  {
   "cell_type": "code",
   "execution_count": 29,
   "id": "7c0b98d4",
   "metadata": {
    "scrolled": true
   },
   "outputs": [
    {
     "name": "stdout",
     "output_type": "stream",
     "text": [
      "num features: 1; rmse: 5.96\n",
      "num features: 2; rmse: 4.56\n",
      "num features: 3; rmse: 4.04\n",
      "num features: 4; rmse: 3.86\n",
      "num features: 5; rmse: 3.78\n",
      "num features: 6; rmse: 3.74\n",
      "num features: 7; rmse: 3.71\n",
      "num features: 8; rmse: 3.70\n",
      "num features: 9; rmse: 3.69\n",
      "num features: 10; rmse: 3.63\n",
      "num features: 11; rmse: 3.63\n",
      "num features: 12; rmse: 3.63\n",
      "num features: 13; rmse: 3.63\n",
      "num features: 14; rmse: 3.64\n",
      "num features: 15; rmse: 3.64\n",
      "num features: 16; rmse: 3.65\n",
      "num features: 17; rmse: 3.65\n",
      "num features: 18; rmse: 3.66\n"
     ]
    }
   ],
   "source": [
    "# Attempt at forward feature selection\n",
    "\n",
    "remaining = list(range(X_train.shape[1]))\n",
    "selected = []\n",
    "n = 18\n",
    "while len(selected) < n:\n",
    "    # find the single features that works best in conjunction\n",
    "    # with the already selected features\n",
    "    rmse_min = 1e7\n",
    "    for i in remaining:\n",
    "        X_feat = np.hstack((\n",
    "            X_train.iloc[:,selected], \n",
    "            X_train.iloc[:,[i]]))\n",
    "        scores = cross_val_score(\n",
    "            LinearRegression(), \n",
    "            X_feat, \n",
    "            y_train, \n",
    "            scoring='neg_mean_squared_error', \n",
    "            cv=5)\n",
    "        rmse = np.sqrt(-scores.mean())\n",
    "        if(rmse < rmse_min):\n",
    "            rmse_min = rmse\n",
    "            i_min = i\n",
    "    remaining.remove(i_min)\n",
    "    selected.append(i_min)\n",
    "    print('num features: {}; rmse: {:.2f}'.format(len(selected), rmse_min))"
   ]
  },
  {
   "cell_type": "code",
   "execution_count": 30,
   "id": "7aa19d77",
   "metadata": {
    "scrolled": true
   },
   "outputs": [
    {
     "name": "stdout",
     "output_type": "stream",
     "text": [
      "Top 10 features: \n",
      "schooling\n",
      "adult mortality\n",
      "hiv/aids\n",
      "income composition of resources\n",
      "bmi\n",
      "percentage expenditure\n",
      "diphtheria\n",
      "alcohol\n",
      "under-five deaths\n",
      "infant deaths\n"
     ]
    }
   ],
   "source": [
    "print(\"Top 10 features: \")\n",
    "for i in selected[:10]:\n",
    "    print(X_train.columns[i])"
   ]
  },
  {
   "cell_type": "code",
   "execution_count": 31,
   "id": "9b4d2d34",
   "metadata": {},
   "outputs": [],
   "source": [
    "# polynomial features\n",
    "predictors = ['schooling', 'adult mortality', 'hiv/aids', 'income composition of resources', 'bmi']\n",
    "X = df_lr[predictors]\n",
    "y = df_lr['life expectancy']\n",
    "pf = PolynomialFeatures(degree=3)\n",
    "pf.fit(X)\n",
    "X_poly=pf.transform(X)\n",
    "X_train, X_test, y_train, y_test = train_test_split(X_poly, y, test_size=0.25, random_state=0)\n",
    "regr = LinearRegression()\n",
    "regr.fit(X_train, y_train)\n",
    "predicted = regr.predict(X_test)"
   ]
  },
  {
   "cell_type": "code",
   "execution_count": 32,
   "id": "0bb82d91",
   "metadata": {},
   "outputs": [
    {
     "name": "stdout",
     "output_type": "stream",
     "text": [
      "training rsquared:0.92\n",
      "rmse:2.50\n"
     ]
    }
   ],
   "source": [
    "rmse = np.sqrt(((y_test - regr.predict(X_test))**2).mean())\n",
    "r2 = regr.score(X_train, y_train)\n",
    "print(f'training rsquared:{r2:.2f}')\n",
    "print(f'rmse:{rmse:.2f}')"
   ]
  },
  {
   "cell_type": "markdown",
   "id": "2c0a896c",
   "metadata": {},
   "source": [
    "### Imputer Test"
   ]
  },
  {
   "cell_type": "code",
   "execution_count": 33,
   "id": "7c94e735",
   "metadata": {},
   "outputs": [],
   "source": [
    "from scipy.stats import zscore\n",
    "from sklearn.linear_model import LinearRegression\n",
    "from sklearn.preprocessing import PolynomialFeatures\n",
    "from sklearn.metrics import mean_squared_error, r2_score\n",
    "from sklearn.model_selection import train_test_split, cross_val_score\n",
    "from sklearn.impute import KNNImputer"
   ]
  },
  {
   "cell_type": "code",
   "execution_count": 34,
   "id": "1c661b95",
   "metadata": {},
   "outputs": [],
   "source": [
    "df_lr2 = df.copy(deep=True)\n",
    "\n",
    "for column in df_lr2.columns:\n",
    "    df_lr2.rename(columns={column: column.strip().lower()}, errors='raise',inplace=True)"
   ]
  },
  {
   "cell_type": "code",
   "execution_count": 35,
   "id": "4b0bb684",
   "metadata": {},
   "outputs": [],
   "source": [
    "df_lr2.drop(columns=['country','year','status'],inplace=True)"
   ]
  },
  {
   "cell_type": "code",
   "execution_count": 36,
   "id": "18e47aca",
   "metadata": {},
   "outputs": [],
   "source": [
    "imputer = KNNImputer(n_neighbors=2)\n",
    "df_lr2 = pd.DataFrame(data=imputer.fit_transform(df_lr2), columns=df_lr2.columns )"
   ]
  },
  {
   "cell_type": "code",
   "execution_count": 37,
   "id": "552d756a",
   "metadata": {},
   "outputs": [
    {
     "data": {
      "text/plain": [
       "LinearRegression()"
      ]
     },
     "execution_count": 37,
     "metadata": {},
     "output_type": "execute_result"
    }
   ],
   "source": [
    "y = df_lr2['life expectancy']\n",
    "X = df_lr2.drop(columns=['life expectancy'])\n",
    "X = zscore(X)\n",
    "X_train, X_test, y_train, y_test = train_test_split(X, y, test_size = 0.3, random_state=0)\n",
    "regr = LinearRegression()\n",
    "regr.fit(X_train, y_train)"
   ]
  },
  {
   "cell_type": "code",
   "execution_count": 38,
   "id": "8c643911",
   "metadata": {},
   "outputs": [
    {
     "name": "stdout",
     "output_type": "stream",
     "text": [
      "r2 = 0.83\n",
      "rmse= 3.94\n"
     ]
    }
   ],
   "source": [
    "predicted = regr.predict(X_test)\n",
    "\n",
    "r2 = regr.score(X_train,y_train)\n",
    "rmse = np.sqrt(((y_test - regr.predict(X_test))**2).mean()).round(2)\n",
    "\n",
    "print(f'r2 = {r2:.2f}\\nrmse= {rmse:.2f}')"
   ]
  },
  {
   "cell_type": "code",
   "execution_count": 39,
   "id": "6fd9887f",
   "metadata": {},
   "outputs": [
    {
     "data": {
      "text/plain": [
       "<AxesSubplot:ylabel='life expectancy'>"
      ]
     },
     "execution_count": 39,
     "metadata": {},
     "output_type": "execute_result"
    },
    {
     "data": {
      "image/png": "[encoded data removed]",
      "text/plain": [
       "<Figure size 648x504 with 1 Axes>"
      ]
     },
     "metadata": {},
     "output_type": "display_data"
    }
   ],
   "source": [
    "sns.scatterplot(x=predicted,y=y_test)"
   ]
  },
  {
   "cell_type": "markdown",
   "id": "9d9e8bbe",
   "metadata": {},
   "source": [
    "#### Decision Tree Test"
   ]
  },
  {
   "cell_type": "code",
   "execution_count": 40,
   "id": "b40c8fb0",
   "metadata": {},
   "outputs": [
    {
     "name": "stdout",
     "output_type": "stream",
     "text": [
      "<class 'pandas.core.frame.DataFrame'>\n",
      "RangeIndex: 2938 entries, 0 to 2937\n",
      "Data columns (total 22 columns):\n",
      " #   Column                           Non-Null Count  Dtype  \n",
      "---  ------                           --------------  -----  \n",
      " 0   Country                          2938 non-null   object \n",
      " 1   Year                             2938 non-null   int64  \n",
      " 2   Status                           2938 non-null   object \n",
      " 3   Life expectancy                  2928 non-null   float64\n",
      " 4   Adult Mortality                  2928 non-null   float64\n",
      " 5   infant deaths                    2938 non-null   int64  \n",
      " 6   Alcohol                          2744 non-null   float64\n",
      " 7   percentage expenditure           2938 non-null   float64\n",
      " 8   Hepatitis B                      2385 non-null   float64\n",
      " 9   Measles                          2938 non-null   int64  \n",
      " 10   BMI                             2904 non-null   float64\n",
      " 11  under-five deaths                2938 non-null   int64  \n",
      " 12  Polio                            2919 non-null   float64\n",
      " 13  Total expenditure                2712 non-null   float64\n",
      " 14  Diphtheria                       2919 non-null   float64\n",
      " 15   HIV/AIDS                        2938 non-null   float64\n",
      " 16  GDP                              2490 non-null   float64\n",
      " 17  Population                       2286 non-null   float64\n",
      " 18   thinness  1-19 years            2904 non-null   float64\n",
      " 19   thinness 5-9 years              2904 non-null   float64\n",
      " 20  Income composition of resources  2771 non-null   float64\n",
      " 21  Schooling                        2775 non-null   float64\n",
      "dtypes: float64(16), int64(4), object(2)\n",
      "memory usage: 505.1+ KB\n"
     ]
    }
   ],
   "source": [
    "df.info()"
   ]
  },
  {
   "cell_type": "code",
   "execution_count": 122,
   "id": "3e5882e0",
   "metadata": {},
   "outputs": [],
   "source": [
    "df_dt = df.copy(deep=True)\n",
    "\n",
    "for column in df_dt.columns:\n",
    "    df_dt.rename(columns={column: column.strip().lower()}, errors='raise',inplace=True)"
   ]
  },
  {
   "cell_type": "code",
   "execution_count": 123,
   "id": "46365182",
   "metadata": {},
   "outputs": [],
   "source": [
    "df_dt.drop(columns=['country','year','status'],inplace=True)\n",
    "imputer = KNNImputer(n_neighbors=5)\n",
    "df_dt = pd.DataFrame(data=imputer.fit_transform(df_dt), columns=df_dt.columns )"
   ]
  },
  {
   "cell_type": "code",
   "execution_count": 124,
   "id": "2dec1419",
   "metadata": {},
   "outputs": [],
   "source": [
    "y = df_dt['life expectancy']\n",
    "X = df_dt.drop(columns=['life expectancy'])\n",
    "\n",
    "# robust scaler\n",
    "from sklearn.preprocessing import RobustScaler\n",
    "X = pd.DataFrame(RobustScaler().fit_transform(X), columns=X.columns, index=X.index)"
   ]
  },
  {
   "cell_type": "code",
   "execution_count": 125,
   "id": "e463c363",
   "metadata": {},
   "outputs": [],
   "source": [
    "from sklearn.tree import DecisionTreeRegressor, export_graphviz\n",
    "from sklearn.model_selection import train_test_split\n",
    "\n",
    "X_train, X_test, y_train, y_test = train_test_split(X, y, test_size=0.30, random_state=0)\n",
    "\n",
    "rmse_scores = []\n",
    "\n",
    "for i in range(1, 20):\n",
    "    # train the model\n",
    "    reg = DecisionTreeRegressor(max_depth=i)\n",
    "    reg.fit(X_train, y_train)\n",
    "\n",
    "    # make predictions and compute error\n",
    "    y_predict = reg.predict(X_test)\n",
    "    errors = y_test - y_predict\n",
    "    rmse = np.sqrt((errors**2).mean())\n",
    "    rmse_scores.append(rmse)"
   ]
  },
  {
   "cell_type": "code",
   "execution_count": 126,
   "id": "c176fcd9",
   "metadata": {},
   "outputs": [
    {
     "name": "stdout",
     "output_type": "stream",
     "text": [
      "7 2.7340824748422214\n"
     ]
    }
   ],
   "source": [
    "print(np.argmin(rmse_scores), np.min(rmse_scores))"
   ]
  },
  {
   "cell_type": "code",
   "execution_count": 127,
   "id": "aa8a4be1",
   "metadata": {
    "scrolled": true
   },
   "outputs": [
    {
     "data": {
      "text/html": [
       "<div>\n",
       "<style scoped>\n",
       "    .dataframe tbody tr th:only-of-type {\n",
       "        vertical-align: middle;\n",
       "    }\n",
       "\n",
       "    .dataframe tbody tr th {\n",
       "        vertical-align: top;\n",
       "    }\n",
       "\n",
       "    .dataframe thead th {\n",
       "        text-align: right;\n",
       "    }\n",
       "</style>\n",
       "<table border=\"1\" class=\"dataframe\">\n",
       "  <thead>\n",
       "    <tr style=\"text-align: right;\">\n",
       "      <th></th>\n",
       "      <th>adult mortality</th>\n",
       "      <th>infant deaths</th>\n",
       "      <th>alcohol</th>\n",
       "      <th>percentage expenditure</th>\n",
       "      <th>hepatitis b</th>\n",
       "      <th>measles</th>\n",
       "      <th>bmi</th>\n",
       "      <th>under-five deaths</th>\n",
       "      <th>polio</th>\n",
       "      <th>total expenditure</th>\n",
       "      <th>diphtheria</th>\n",
       "      <th>hiv/aids</th>\n",
       "      <th>gdp</th>\n",
       "      <th>population</th>\n",
       "      <th>thinness  1-19 years</th>\n",
       "      <th>thinness 5-9 years</th>\n",
       "      <th>income composition of resources</th>\n",
       "      <th>schooling</th>\n",
       "    </tr>\n",
       "  </thead>\n",
       "  <tbody>\n",
       "    <tr>\n",
       "      <th>count</th>\n",
       "      <td>2938.000000</td>\n",
       "      <td>2938.000000</td>\n",
       "      <td>2938.000000</td>\n",
       "      <td>2938.000000</td>\n",
       "      <td>2938.000000</td>\n",
       "      <td>2938.000000</td>\n",
       "      <td>2938.000000</td>\n",
       "      <td>2938.000000</td>\n",
       "      <td>2938.000000</td>\n",
       "      <td>2938.000000</td>\n",
       "      <td>2938.000000</td>\n",
       "      <td>2938.000000</td>\n",
       "      <td>2938.000000</td>\n",
       "      <td>2938.000000</td>\n",
       "      <td>2938.000000</td>\n",
       "      <td>2938.000000</td>\n",
       "      <td>2938.000000</td>\n",
       "      <td>2938.000000</td>\n",
       "    </tr>\n",
       "    <tr>\n",
       "      <th>mean</th>\n",
       "      <td>0.135222</td>\n",
       "      <td>1.241089</td>\n",
       "      <td>0.124847</td>\n",
       "      <td>1.541353</td>\n",
       "      <td>-0.491858</td>\n",
       "      <td>6.669236</td>\n",
       "      <td>-0.132023</td>\n",
       "      <td>1.358419</td>\n",
       "      <td>-0.549712</td>\n",
       "      <td>0.061212</td>\n",
       "      <td>-0.560868</td>\n",
       "      <td>2.345862</td>\n",
       "      <td>1.041011</td>\n",
       "      <td>1.306564</td>\n",
       "      <td>0.260213</td>\n",
       "      <td>0.265453</td>\n",
       "      <td>-0.169989</td>\n",
       "      <td>-0.083228</td>\n",
       "    </tr>\n",
       "    <tr>\n",
       "      <th>std</th>\n",
       "      <td>0.811390</td>\n",
       "      <td>5.360296</td>\n",
       "      <td>0.607747</td>\n",
       "      <td>4.550579</td>\n",
       "      <td>1.154368</td>\n",
       "      <td>31.831430</td>\n",
       "      <td>0.544359</td>\n",
       "      <td>5.730198</td>\n",
       "      <td>1.230190</td>\n",
       "      <td>0.789697</td>\n",
       "      <td>1.245304</td>\n",
       "      <td>7.253978</td>\n",
       "      <td>2.717258</td>\n",
       "      <td>7.136425</td>\n",
       "      <td>0.786419</td>\n",
       "      <td>0.802081</td>\n",
       "      <td>0.731194</td>\n",
       "      <td>0.792201</td>\n",
       "    </tr>\n",
       "    <tr>\n",
       "      <th>min</th>\n",
       "      <td>-0.934641</td>\n",
       "      <td>-0.136364</td>\n",
       "      <td>-0.576791</td>\n",
       "      <td>-0.148594</td>\n",
       "      <td>-4.411765</td>\n",
       "      <td>-0.047189</td>\n",
       "      <td>-1.147139</td>\n",
       "      <td>-0.142857</td>\n",
       "      <td>-4.736842</td>\n",
       "      <td>-1.748172</td>\n",
       "      <td>-4.789474</td>\n",
       "      <td>0.000000</td>\n",
       "      <td>-0.334216</td>\n",
       "      <td>-0.252762</td>\n",
       "      <td>-0.589286</td>\n",
       "      <td>-0.589286</td>\n",
       "      <td>-2.364912</td>\n",
       "      <td>-2.928571</td>\n",
       "    </tr>\n",
       "    <tr>\n",
       "      <th>25%</th>\n",
       "      <td>-0.457516</td>\n",
       "      <td>-0.136364</td>\n",
       "      <td>-0.420146</td>\n",
       "      <td>-0.137868</td>\n",
       "      <td>-0.754902</td>\n",
       "      <td>-0.047189</td>\n",
       "      <td>-0.645777</td>\n",
       "      <td>-0.142857</td>\n",
       "      <td>-0.789474</td>\n",
       "      <td>-0.458164</td>\n",
       "      <td>-0.789474</td>\n",
       "      <td>0.000000</td>\n",
       "      <td>-0.240452</td>\n",
       "      <td>-0.206134</td>\n",
       "      <td>-0.321429</td>\n",
       "      <td>-0.321429</td>\n",
       "      <td>-0.642105</td>\n",
       "      <td>-0.547619</td>\n",
       "    </tr>\n",
       "    <tr>\n",
       "      <th>50%</th>\n",
       "      <td>0.000000</td>\n",
       "      <td>0.000000</td>\n",
       "      <td>0.000000</td>\n",
       "      <td>0.000000</td>\n",
       "      <td>0.000000</td>\n",
       "      <td>0.000000</td>\n",
       "      <td>0.000000</td>\n",
       "      <td>0.000000</td>\n",
       "      <td>0.000000</td>\n",
       "      <td>0.000000</td>\n",
       "      <td>0.000000</td>\n",
       "      <td>0.000000</td>\n",
       "      <td>0.000000</td>\n",
       "      <td>0.000000</td>\n",
       "      <td>0.000000</td>\n",
       "      <td>0.000000</td>\n",
       "      <td>0.000000</td>\n",
       "      <td>0.000000</td>\n",
       "    </tr>\n",
       "    <tr>\n",
       "      <th>75%</th>\n",
       "      <td>0.542484</td>\n",
       "      <td>0.863636</td>\n",
       "      <td>0.579854</td>\n",
       "      <td>0.862132</td>\n",
       "      <td>0.245098</td>\n",
       "      <td>0.952811</td>\n",
       "      <td>0.354223</td>\n",
       "      <td>0.857143</td>\n",
       "      <td>0.210526</td>\n",
       "      <td>0.541836</td>\n",
       "      <td>0.210526</td>\n",
       "      <td>1.000000</td>\n",
       "      <td>0.759548</td>\n",
       "      <td>0.793866</td>\n",
       "      <td>0.678571</td>\n",
       "      <td>0.678571</td>\n",
       "      <td>0.357895</td>\n",
       "      <td>0.452381</td>\n",
       "    </tr>\n",
       "    <tr>\n",
       "      <th>max</th>\n",
       "      <td>3.784314</td>\n",
       "      <td>81.681818</td>\n",
       "      <td>2.159326</td>\n",
       "      <td>44.443292</td>\n",
       "      <td>0.392157</td>\n",
       "      <td>588.941013</td>\n",
       "      <td>1.204360</td>\n",
       "      <td>89.142857</td>\n",
       "      <td>0.315789</td>\n",
       "      <td>3.850528</td>\n",
       "      <td>0.315789</td>\n",
       "      <td>72.142857</td>\n",
       "      <td>23.927749</td>\n",
       "      <td>166.245485</td>\n",
       "      <td>4.339286</td>\n",
       "      <td>4.500000</td>\n",
       "      <td>0.961404</td>\n",
       "      <td>2.000000</td>\n",
       "    </tr>\n",
       "  </tbody>\n",
       "</table>\n",
       "</div>"
      ],
      "text/plain": [
       "       adult mortality  infant deaths      alcohol  percentage expenditure  \\\n",
       "count      2938.000000    2938.000000  2938.000000             2938.000000   \n",
       "mean          0.135222       1.241089     0.124847                1.541353   \n",
       "std           0.811390       5.360296     0.607747                4.550579   \n",
       "min          -0.934641      -0.136364    -0.576791               -0.148594   \n",
       "25%          -0.457516      -0.136364    -0.420146               -0.137868   \n",
       "50%           0.000000       0.000000     0.000000                0.000000   \n",
       "75%           0.542484       0.863636     0.579854                0.862132   \n",
       "max           3.784314      81.681818     2.159326               44.443292   \n",
       "\n",
       "       hepatitis b      measles          bmi  under-five deaths        polio  \\\n",
       "count  2938.000000  2938.000000  2938.000000        2938.000000  2938.000000   \n",
       "mean     -0.491858     6.669236    -0.132023           1.358419    -0.549712   \n",
       "std       1.154368    31.831430     0.544359           5.730198     1.230190   \n",
       "min      -4.411765    -0.047189    -1.147139          -0.142857    -4.736842   \n",
       "25%      -0.754902    -0.047189    -0.645777          -0.142857    -0.789474   \n",
       "50%       0.000000     0.000000     0.000000           0.000000     0.000000   \n",
       "75%       0.245098     0.952811     0.354223           0.857143     0.210526   \n",
       "max       0.392157   588.941013     1.204360          89.142857     0.315789   \n",
       "\n",
       "       total expenditure   diphtheria     hiv/aids          gdp   population  \\\n",
       "count        2938.000000  2938.000000  2938.000000  2938.000000  2938.000000   \n",
       "mean            0.061212    -0.560868     2.345862     1.041011     1.306564   \n",
       "std             0.789697     1.245304     7.253978     2.717258     7.136425   \n",
       "min            -1.748172    -4.789474     0.000000    -0.334216    -0.252762   \n",
       "25%            -0.458164    -0.789474     0.000000    -0.240452    -0.206134   \n",
       "50%             0.000000     0.000000     0.000000     0.000000     0.000000   \n",
       "75%             0.541836     0.210526     1.000000     0.759548     0.793866   \n",
       "max             3.850528     0.315789    72.142857    23.927749   166.245485   \n",
       "\n",
       "       thinness  1-19 years  thinness 5-9 years  \\\n",
       "count           2938.000000         2938.000000   \n",
       "mean               0.260213            0.265453   \n",
       "std                0.786419            0.802081   \n",
       "min               -0.589286           -0.589286   \n",
       "25%               -0.321429           -0.321429   \n",
       "50%                0.000000            0.000000   \n",
       "75%                0.678571            0.678571   \n",
       "max                4.339286            4.500000   \n",
       "\n",
       "       income composition of resources    schooling  \n",
       "count                      2938.000000  2938.000000  \n",
       "mean                         -0.169989    -0.083228  \n",
       "std                           0.731194     0.792201  \n",
       "min                          -2.364912    -2.928571  \n",
       "25%                          -0.642105    -0.547619  \n",
       "50%                           0.000000     0.000000  \n",
       "75%                           0.357895     0.452381  \n",
       "max                           0.961404     2.000000  "
      ]
     },
     "execution_count": 127,
     "metadata": {},
     "output_type": "execute_result"
    }
   ],
   "source": [
    "X.describe()"
   ]
  },
  {
   "cell_type": "code",
   "execution_count": 134,
   "id": "feb68a82",
   "metadata": {},
   "outputs": [
    {
     "data": {
      "text/plain": [
       "<AxesSubplot:>"
      ]
     },
     "execution_count": 134,
     "metadata": {},
     "output_type": "execute_result"
    },
    {
     "data": {
      "image/png": "[encoded data removed]",
      "text/plain": [
       "<Figure size 648x504 with 2 Axes>"
      ]
     },
     "metadata": {},
     "output_type": "display_data"
    }
   ],
   "source": [
    "sns.heatmap(X.corr())"
   ]
  }
 ],
 "metadata": {
  "kernelspec": {
   "display_name": "Python 3 (ipykernel)",
   "language": "python",
   "name": "python3"
  },
  "language_info": {
   "codemirror_mode": {
    "name": "ipython",
    "version": 3
   },
   "file_extension": ".py",
   "mimetype": "text/x-python",
   "name": "python",
   "nbconvert_exporter": "python",
   "pygments_lexer": "ipython3",
   "version": "3.9.7"
  }
 },
 "nbformat": 4,
 "nbformat_minor": 5
}
